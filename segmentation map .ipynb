{
 "cells": [
  {
   "cell_type": "code",
   "execution_count": 32,
   "id": "ccd84641-f4a3-4939-b90f-3d003eaa5439",
   "metadata": {},
   "outputs": [
    {
     "name": "stderr",
     "output_type": "stream",
     "text": [
      "/Users/nasekhian/opt/anaconda3/envs/myenv/lib/python3.10/site-packages/pandas/core/arrays/masked.py:60: UserWarning: Pandas requires version '1.3.6' or newer of 'bottleneck' (version '1.3.5' currently installed).\n",
      "  from pandas.core import (\n",
      "/var/folders/xm/sl735y1n4m30kfvcxl7h4p6w0000gn/T/ipykernel_14872/3016963944.py:3: DeprecationWarning: \n",
      "Pyarrow will become a required dependency of pandas in the next major release of pandas (pandas 3.0),\n",
      "(to allow more performant data types, such as the Arrow string type, and better interoperability with other libraries)\n",
      "but was not found to be installed on your system.\n",
      "If this would cause problems for you,\n",
      "please provide us feedback at https://github.com/pandas-dev/pandas/issues/54466\n",
      "        \n",
      "  import pandas as pd\n"
     ]
    }
   ],
   "source": [
    "import os\n",
    "import numpy as np\n",
    "import pandas as pd\n",
    "from astropy.io import fits\n",
    "from photutils.segmentation import detect_sources\n",
    "import matplotlib.pyplot as plt\n",
    "from photutils.background import Background2D\n",
    "from photutils.segmentation import SourceCatalog\n",
    "from photutils.background import StdBackgroundRMS\n",
    "from photutils.segmentation import detect_sources, SegmentationImage\n",
    "from astropy.stats import SigmaClip\n",
    "from photutils.segmentation import deblend_sources\n"
   ]
  },
  {
   "cell_type": "code",
   "execution_count": 62,
   "id": "80433612-ccdd-4815-a475-c54b829b71c5",
   "metadata": {},
   "outputs": [],
   "source": [
    "# Define the data folder\n",
    "data_folder = '/Users/nasekhian/Documents/GitHub/IMcascade'\n",
    "num_simulations = 120\n",
    "# Load the coordinates DataFrame\n",
    "coordinates_file = 'coordinates2.csv'  # Change this to the path of your coordinates CSV file\n",
    "coordinates2_df = pd.read_csv(coordinates_file)"
   ]
  },
  {
   "cell_type": "code",
   "execution_count": 16,
   "id": "d047690d-3f59-4c4e-bd3d-fbda60e0881c",
   "metadata": {},
   "outputs": [],
   "source": [
    "\n",
    "bkg = Background2D(data,(128,128),filter_size=(3,3))\n",
    "thr = bkg.background + (1.6*bkg.background_rms)\n",
    "segm = detect_sources(data, thr, npixels=10)"
   ]
  },
  {
   "cell_type": "code",
   "execution_count": 25,
   "id": "54bc0b9c-9c7e-4c29-8b9e-04df07903a02",
   "metadata": {},
   "outputs": [],
   "source": [
    "# Define the function to create segmentation maps\n",
    "def create_segmentation_map(data):\n",
    "    sigma_clip = SigmaClip(sigma=3.)\n",
    "    bkg_estimator = Background2D(data, (128, 128), filter_size=(3, 3), sigma_clip=sigma_clip)\n",
    "    bkg_rms = bkg_estimator.background_rms\n",
    "    threshold = bkg_estimator.background + (1.6 * bkg_rms)\n",
    "    segm = detect_sources(data, threshold, npixels=10)\n",
    "    return segm.data\n"
   ]
  },
  {
   "cell_type": "code",
   "execution_count": 27,
   "id": "3080facb-7da8-41e1-a585-bc6790b0f72c",
   "metadata": {},
   "outputs": [],
   "source": [
    "# Loop over each simulation folder\n",
    "for index in range(num_simulations):\n",
    "    simulation_dir = os.path.join(data_folder, f'simulation_{index}')\n",
    "    fits_file = os.path.join(simulation_dir, f'sci_convolved_{index}.fits')\n",
    "    \n",
    "    # Load the simulated data\n",
    "    hdul = fits.open(fits_file)\n",
    "    data = hdul[0].data\n",
    "    \n",
    "    # Create the segmentation map\n",
    "    segm = create_segmentation_map(data)\n",
    "    \n",
    "    # Save the segmentation map\n",
    "    segm_file = os.path.join(simulation_dir, f'segmentation_map_{index}.fits')\n",
    "    fits.writeto(segm_file, segm, overwrite=True)\n",
    "    \n",
    "    # Close the FITS file\n",
    "    hdul.close()"
   ]
  },
  {
   "cell_type": "code",
   "execution_count": 67,
   "id": "997065bf-4fd5-4835-aa0c-3f79ebea4ea6",
   "metadata": {},
   "outputs": [],
   "source": [
    "def center_crop(data, center, size = 200):\n",
    "\n",
    "    x_center, y_center = center\n",
    "    y_min = y_center - (size // 2) \n",
    "    y_max = y_min + size\n",
    "    x_min = x_center - (size // 2)\n",
    "    x_max = x_min + size\n",
    "    return data[y_min:y_max, x_min:x_max]\n",
    "    \n"
   ]
  },
  {
   "cell_type": "code",
   "execution_count": 68,
   "id": "63c30466-a28d-4d9f-bbd1-59167bc8e9e6",
   "metadata": {},
   "outputs": [],
   "source": [
    "# Loop over each simulation folder\n",
    "for index, row in coordinates2_df.iterrows():  # Use coordinates2_df for the correct column names\n",
    "    simulation_dir = os.path.join(data_folder, f'simulation_{index}')\n",
    "    \n",
    "    # Load the segmentation map\n",
    "    segm_file = os.path.join(simulation_dir, f'segmentation_map_{index}.fits')\n",
    "    segm_hdul = fits.open(segm_file)\n",
    "    segm_data = segm_hdul[0].data\n",
    "    \n",
    "    # Load the center coordinates\n",
    "    center = (row['x0'], row['y0'])\n",
    "    \n",
    "    # Crop the segmentation map\n",
    "    cropped_segm_data = center_crop(segm_data, center)\n",
    "    \n",
    "    # Save the cropped segmentation map\n",
    "    cropped_segm_file = os.path.join(simulation_dir, f'cropped_segmentation_map_{index}.fits')\n",
    "    fits.writeto(cropped_segm_file, cropped_segm_data, overwrite=True)\n",
    "    \n",
    "    # Load the science convolved file\n",
    "    sci_convolved_file = os.path.join(simulation_dir, f'sci_convolved_{index}.fits')\n",
    "    sci_convolved_hdul = fits.open(sci_convolved_file)\n",
    "    sci_convolved_data = sci_convolved_hdul[0].data\n",
    "    \n",
    "    # Crop the science convolved file\n",
    "    cropped_sci_convolved_data = center_crop(sci_convolved_data, center)\n",
    "    \n",
    "    # Save the cropped science convolved file\n",
    "    cropped_sci_convolved_file = os.path.join(simulation_dir, f'cropped_sci_convolved_{index}.fits')\n",
    "    fits.writeto(cropped_sci_convolved_file, cropped_sci_convolved_data, overwrite=True)\n",
    "    \n",
    "    # Close the FITS files\n",
    "    segm_hdul.close()\n",
    "    sci_convolved_hdul.close()\n"
   ]
  },
  {
   "cell_type": "code",
   "execution_count": null,
   "id": "adb00d13-1c89-4218-9797-00b25b8ebdd0",
   "metadata": {},
   "outputs": [],
   "source": []
  }
 ],
 "metadata": {
  "kernelspec": {
   "display_name": "Python 3 (ipykernel)",
   "language": "python",
   "name": "python3"
  },
  "language_info": {
   "codemirror_mode": {
    "name": "ipython",
    "version": 3
   },
   "file_extension": ".py",
   "mimetype": "text/x-python",
   "name": "python",
   "nbconvert_exporter": "python",
   "pygments_lexer": "ipython3",
   "version": "3.10.13"
  }
 },
 "nbformat": 4,
 "nbformat_minor": 5
}
