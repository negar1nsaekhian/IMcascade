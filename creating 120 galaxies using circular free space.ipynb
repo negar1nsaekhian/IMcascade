{
 "cells": [
  {
   "cell_type": "code",
   "execution_count": 1,
   "id": "35043d45-efee-4d74-aae3-450416cf3b87",
   "metadata": {},
   "outputs": [
    {
     "name": "stdout",
     "output_type": "stream",
     "text": [
      "Intel MKL WARNING: Support of Intel(R) Streaming SIMD Extensions 4.2 (Intel(R) SSE4.2) enabled only processors has been deprecated. Intel oneAPI Math Kernel Library 2025.0 will require Intel(R) Advanced Vector Extensions (Intel(R) AVX) instructions.\n",
      "Intel MKL WARNING: Support of Intel(R) Streaming SIMD Extensions 4.2 (Intel(R) SSE4.2) enabled only processors has been deprecated. Intel oneAPI Math Kernel Library 2025.0 will require Intel(R) Advanced Vector Extensions (Intel(R) AVX) instructions.\n"
     ]
    },
    {
     "name": "stderr",
     "output_type": "stream",
     "text": [
      "/Users/nasekhian/opt/anaconda3/envs/myenv/lib/python3.10/site-packages/pandas/core/arrays/masked.py:60: UserWarning: Pandas requires version '1.3.6' or newer of 'bottleneck' (version '1.3.5' currently installed).\n",
      "  from pandas.core import (\n",
      "/var/folders/xm/sl735y1n4m30kfvcxl7h4p6w0000gn/T/ipykernel_10764/1673434397.py:6: DeprecationWarning: \n",
      "Pyarrow will become a required dependency of pandas in the next major release of pandas (pandas 3.0),\n",
      "(to allow more performant data types, such as the Arrow string type, and better interoperability with other libraries)\n",
      "but was not found to be installed on your system.\n",
      "If this would cause problems for you,\n",
      "please provide us feedback at https://github.com/pandas-dev/pandas/issues/54466\n",
      "        \n",
      "  import pandas as pd\n"
     ]
    }
   ],
   "source": [
    "import os\n",
    "import numpy as np\n",
    "from astropy.io import fits\n",
    "from astropy.modeling.models import Sersic2D\n",
    "from astropy.convolution import convolve\n",
    "import pandas as pd"
   ]
  },
  {
   "cell_type": "code",
   "execution_count": 2,
   "id": "146c480f-583f-42e0-9218-c1d9378cded4",
   "metadata": {},
   "outputs": [],
   "source": [
    "# Set a fixed seed for reproducibility\n",
    "np.random.seed(42)\n",
    "\n",
    "# Load the coordinates from the CSV file\n",
    "coordinates = pd.read_csv('coordinates2.csv')\n",
    "\n",
    "# Define the number of galaxies to simulate\n",
    "num_galaxies = 100\n",
    "\n",
    "# Define lists to store input parameters\n",
    "sersic_index_list = []\n",
    "effective_radius_list = []\n",
    "amplitude_list = []\n",
    "ellipticity_list = []\n",
    "theta_list = []\n",
    "total_flux_list = []\n",
    "magnitude_list = []"
   ]
  },
  {
   "cell_type": "code",
   "execution_count": 3,
   "id": "fb5f168d-09f5-4275-9286-17d97d21d30a",
   "metadata": {},
   "outputs": [],
   "source": [
    "# Loop over each row in the DataFrame\n",
    "for index, row in coordinates.iterrows():\n",
    "    # Define the properties of the simulated galaxy for this iteration\n",
    "    sersic_index = np.random.uniform(1, 4)  # Random Sersic index between 1 and 4\n",
    "    effective_radius = np.random.uniform(2, 4)  # Random effective radius between 1 and 10\n",
    "    amplitude = np.random.uniform(0.001, 0.01)  # Random amplitude between 0.1 and 1\n",
    "    ellip = np.random.uniform(0.2, 0.9)  # Random ellipticity between 0 and 0.5\n",
    "    theta = np.radians(np.random.uniform(0, 180))  # Random angle between 0 and 180 degrees\n",
    "\n",
    "    # Specify the input file names\n",
    "    galaxy_file = 'sci_f444w_22450.fits'\n",
    "    psf_file = 'ePSFf444w.fits'\n",
    "\n",
    "    # Load data\n",
    "    galaxy_data, galaxy_header = fits.getdata(galaxy_file, header=True)\n",
    "    psf_data = fits.getdata(psf_file)\n",
    "    y, x = np.mgrid[:galaxy_data.shape[0], :galaxy_data.shape[1]]\n",
    "\n",
    "    # Create a Sersic model for the simulated galaxy\n",
    "    galaxy_model = Sersic2D(amplitude=amplitude, r_eff=effective_radius, n=sersic_index,\n",
    "                             x_0=row['x0'], y_0=row['y0'], ellip=ellip, theta=theta)\n",
    "    simulated_galaxy = galaxy_model(x, y)\n",
    "    convolved_simulated = convolve(simulated_galaxy, psf_data, boundary='extend')\n",
    "\n",
    "    # Calculate total flux\n",
    "    total_flux = np.sum(simulated_galaxy)\n",
    "\n",
    "    # Calculate magnitude\n",
    "    magnitude = -2.5 * np.log10(total_flux) + 23.9\n",
    "\n",
    "    # Append the input parameters to the lists\n",
    "    sersic_index_list.append(sersic_index)\n",
    "    effective_radius_list.append(effective_radius)\n",
    "    amplitude_list.append(amplitude)\n",
    "    ellipticity_list.append(ellip)\n",
    "    theta_list.append(theta)\n",
    "    total_flux_list.append(total_flux)\n",
    "    magnitude_list.append(magnitude)\n",
    "\n",
    "    # Save the convolved simulated galaxy fits file in the relevant folder\n",
    "    simulation_dir = f'simulation_{index}'\n",
    "    if not os.path.exists(simulation_dir):\n",
    "        os.makedirs(simulation_dir)\n",
    "    convolved_output_path = os.path.join(simulation_dir, f'simulated_galaxy_{index}.fits')\n",
    "    fits.writeto(convolved_output_path, convolved_simulated, header=galaxy_header, overwrite=True)\n",
    "\n",
    "    # Save the original simulated galaxy fits file in the same folder\n",
    "    #simulated_output_path = os.path.join(simulation_dir, f'original_simulated_galaxy_{index}.fits')\n",
    "    #fits.writeto(simulated_output_path, simulated_galaxy, header=galaxy_header, overwrite=True)\n",
    "\n",
    "    # Add the simulated convolved galaxy image to the original science image\n",
    "    final_image = galaxy_data + convolved_simulated\n",
    "\n",
    "    # Save the final image with the simulated galaxy in the relevant folder\n",
    "    final_output_path = os.path.join(simulation_dir, f'sci_convolved_{index}.fits')\n",
    "    fits.writeto(final_output_path, final_image, header=galaxy_header, overwrite=True)\n",
    "\n"
   ]
  },
  {
   "cell_type": "code",
   "execution_count": 4,
   "id": "4b73ef20-da23-43ba-95ec-20e51ca84f0c",
   "metadata": {},
   "outputs": [
    {
     "name": "stdout",
     "output_type": "stream",
     "text": [
      "                   Sersic_Index  Effective_Radius  Amplitude  Ellipticity  \\\n",
      "Simulation_Number                                                           \n",
      "0                      2.123620          3.901429   0.007588     0.619061   \n",
      "1                      1.467984          2.116167   0.008796     0.620781   \n",
      "2                      1.061753          3.939820   0.008492     0.348637   \n",
      "3                      1.550214          2.608484   0.005723     0.502362   \n",
      "4                      2.835559          2.278988   0.003629     0.456453   \n",
      "...                         ...               ...        ...          ...   \n",
      "115                    3.848562          2.294147   0.009339     0.544481   \n",
      "116                    2.377407          3.960065   0.005434     0.430126   \n",
      "117                    1.720437          2.151727   0.002160     0.289632   \n",
      "118                    1.416482          3.281749   0.002637     0.441967   \n",
      "119                    2.421885          3.335115   0.002551     0.334602   \n",
      "\n",
      "                      Theta  Total_Flux  Magnitude  \n",
      "Simulation_Number                                   \n",
      "0                  0.490147    1.028028  23.869988  \n",
      "1                  2.224476    0.283401  25.268997  \n",
      "2                  0.571220    1.060454  23.836271  \n",
      "3                  0.914923    0.332142  25.096689  \n",
      "4                  1.432786    0.913439  23.998301  \n",
      "...                     ...         ...        ...  \n",
      "115                0.811299   15.135961  20.949975  \n",
      "116                1.989887    1.225277  23.679414  \n",
      "117                0.477216    0.139719  26.036861  \n",
      "118                2.817344    0.234413  25.475047  \n",
      "119                0.128393    0.531119  24.587021  \n",
      "\n",
      "[120 rows x 7 columns]\n"
     ]
    }
   ],
   "source": [
    "# Create a DataFrame from the lists of input parameters\n",
    "input_params_df = pd.DataFrame({\n",
    "    'Sersic_Index': sersic_index_list,\n",
    "    'Effective_Radius': effective_radius_list,\n",
    "    'Amplitude': amplitude_list,\n",
    "    'Ellipticity': ellipticity_list,\n",
    "    'Theta': theta_list,\n",
    "    'Total_Flux': total_flux_list,\n",
    "    'Magnitude': magnitude_list\n",
    "})\n",
    "\n",
    "# Set the index of the DataFrame to be the simulation number\n",
    "input_params_df.index.name = 'Simulation_Number'\n",
    "\n",
    "# Display the DataFrame\n",
    "print(input_params_df)"
   ]
  },
  {
   "cell_type": "code",
   "execution_count": null,
   "id": "ce156b6d-6f8e-4ceb-9c86-44714431c19b",
   "metadata": {},
   "outputs": [],
   "source": []
  }
 ],
 "metadata": {
  "kernelspec": {
   "display_name": "Python 3 (ipykernel)",
   "language": "python",
   "name": "python3"
  },
  "language_info": {
   "codemirror_mode": {
    "name": "ipython",
    "version": 3
   },
   "file_extension": ".py",
   "mimetype": "text/x-python",
   "name": "python",
   "nbconvert_exporter": "python",
   "pygments_lexer": "ipython3",
   "version": "3.10.13"
  }
 },
 "nbformat": 4,
 "nbformat_minor": 5
}
