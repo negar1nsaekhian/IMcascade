{
 "cells": [
  {
   "cell_type": "code",
   "execution_count": 1,
   "id": "a2288fa4-4524-4573-a9e2-f538980388fa",
   "metadata": {},
   "outputs": [
    {
     "name": "stdout",
     "output_type": "stream",
     "text": [
      "Intel MKL WARNING: Support of Intel(R) Streaming SIMD Extensions 4.2 (Intel(R) SSE4.2) enabled only processors has been deprecated. Intel oneAPI Math Kernel Library 2025.0 will require Intel(R) Advanced Vector Extensions (Intel(R) AVX) instructions.\n",
      "Intel MKL WARNING: Support of Intel(R) Streaming SIMD Extensions 4.2 (Intel(R) SSE4.2) enabled only processors has been deprecated. Intel oneAPI Math Kernel Library 2025.0 will require Intel(R) Advanced Vector Extensions (Intel(R) AVX) instructions.\n"
     ]
    },
    {
     "name": "stderr",
     "output_type": "stream",
     "text": [
      "/Users/nasekhian/opt/anaconda3/envs/myenv/lib/python3.10/site-packages/pandas/core/arrays/masked.py:60: UserWarning: Pandas requires version '1.3.6' or newer of 'bottleneck' (version '1.3.5' currently installed).\n",
      "  from pandas.core import (\n",
      "/var/folders/xm/sl735y1n4m30kfvcxl7h4p6w0000gn/T/ipykernel_10480/1874662340.py:3: DeprecationWarning: \n",
      "Pyarrow will become a required dependency of pandas in the next major release of pandas (pandas 3.0),\n",
      "(to allow more performant data types, such as the Arrow string type, and better interoperability with other libraries)\n",
      "but was not found to be installed on your system.\n",
      "If this would cause problems for you,\n",
      "please provide us feedback at https://github.com/pandas-dev/pandas/issues/54466\n",
      "        \n",
      "  import pandas as pd\n"
     ]
    }
   ],
   "source": [
    "import numpy as np\n",
    "from astropy.io import fits\n",
    "import pandas as pd\n"
   ]
  },
  {
   "cell_type": "code",
   "execution_count": 2,
   "id": "1704a050-164a-4a85-832e-f4e1eb7c0be1",
   "metadata": {},
   "outputs": [],
   "source": [
    "fits_file = fits.open('seg_22450.fits')\n",
    "\n",
    "# Extract the data\n",
    "data = fits_file[0].data\n",
    "\n",
    "# Close the FITS file\n",
    "\n",
    "fits_file.close()"
   ]
  },
  {
   "cell_type": "code",
   "execution_count": 3,
   "id": "ace7c76f-532c-48a6-8bc3-4572b2c2a319",
   "metadata": {},
   "outputs": [
    {
     "name": "stdout",
     "output_type": "stream",
     "text": [
      "      x0   y0\n",
      "1    443  526\n",
      "2    403  121\n",
      "3    141  415\n",
      "4    417  404\n",
      "5    219  143\n",
      "..   ...  ...\n",
      "146  160  456\n",
      "147  477  122\n",
      "148  214  255\n",
      "149  280  362\n",
      "150  234  247\n",
      "\n",
      "[150 rows x 2 columns]\n"
     ]
    }
   ],
   "source": [
    "# Find the coordinates where both x and y values are zero\n",
    "zero_coords = np.argwhere(data == 0)\n",
    "\n",
    "# Filter the coordinates within the range [100, 550]\n",
    "filtered_coords = [coord for coord in zero_coords if (100 <= coord[1] <= 550) and (100 <= coord[0] <= 550)]\n",
    "\n",
    "# Convert to a numpy array\n",
    "filtered_coords_array = np.array(filtered_coords)\n",
    "\n",
    "# Set the random seed for reproducibility\n",
    "np.random.seed(42)\n",
    "\n",
    "# Randomly select 100 coordinates\n",
    "random_coords_indices = np.random.choice(filtered_coords_array.shape[0], 150, replace=False)\n",
    "random_coords = filtered_coords_array[random_coords_indices]\n",
    "\n",
    "# Create a DataFrame from the numpy array with columns 'x0' and 'y0'\n",
    "coordinates = pd.DataFrame(random_coords, columns=['x0', 'y0'])\n",
    "\n",
    "# Reset the index to start from 1\n",
    "coordinates.index = range(1, len(coordinates) + 1)\n",
    "\n",
    "# Display the DataFrame\n",
    "print(coordinates)\n",
    "\n",
    "# Save the DataFrame to a CSV file\n",
    "coordinates.to_csv('coordinates.csv')"
   ]
  },
  {
   "cell_type": "code",
   "execution_count": 6,
   "id": "9d5b2f48-9467-4b0b-a226-05e510ac31e0",
   "metadata": {},
   "outputs": [
    {
     "name": "stdout",
     "output_type": "stream",
     "text": [
      "      x0   y0\n",
      "1    202  535\n",
      "2    370  206\n",
      "3    171  120\n",
      "4    221  566\n",
      "5    314  430\n",
      "..   ...  ...\n",
      "116  599  610\n",
      "117  400  231\n",
      "118  514  544\n",
      "119  190  630\n",
      "120  138  225\n",
      "\n",
      "[120 rows x 2 columns]\n"
     ]
    }
   ],
   "source": [
    "import numpy as np\n",
    "from astropy.io import fits\n",
    "import pandas as pd\n",
    "\n",
    "def is_circle_empty(data, center, radius):\n",
    "    y, x = np.ogrid[-center[1]:data.shape[0]-center[1], -center[0]:data.shape[1]-center[0]]\n",
    "    mask = x*x + y*y <= radius*radius\n",
    "    return np.all(data[mask] == 0)\n",
    "\n",
    "# Open the FITS file\n",
    "fits_file = fits.open('seg_22450.fits')\n",
    "\n",
    "# Extract the data\n",
    "data = fits_file[0].data\n",
    "\n",
    "# Close the FITS file\n",
    "fits_file.close()\n",
    "\n",
    "# Initialize variables\n",
    "radius = 10\n",
    "num_coordinates = 120\n",
    "coordinates = []\n",
    "\n",
    "# Set the random seed for reproducibility\n",
    "np.random.seed(42)\n",
    "\n",
    "# Generate coordinates\n",
    "while len(coordinates) < num_coordinates:\n",
    "    # Randomly select a coordinate\n",
    "    coord = np.random.randint(100, data.shape[0] - 100), np.random.randint(100, data.shape[1] - 100)\n",
    "    \n",
    "    # Check if the circular area around the coordinate is empty\n",
    "    if is_circle_empty(data, coord, radius):\n",
    "        # Add the coordinate to the list\n",
    "        coordinates.append(coord)\n",
    "\n",
    "        # Exclude coordinates within the circular area for subsequent selections\n",
    "        y, x = np.ogrid[-coord[1]:data.shape[0]-coord[1], -coord[0]:data.shape[1]-coord[0]]\n",
    "        mask = x*x + y*y <= radius*radius\n",
    "        data[mask] = 1\n",
    "\n",
    "# Create a DataFrame from the numpy array with columns 'x0' and 'y0'\n",
    "coordinates2_df = pd.DataFrame(coordinates, columns=['x0', 'y0'])\n",
    "\n",
    "# Reset the index to start from 1\n",
    "coordinates2_df.index = range(1, len(coordinates2_df) + 1)\n",
    "\n",
    "# Display the DataFrame\n",
    "print(coordinates2_df)\n",
    "\n",
    "# Save the DataFrame to a CSV file\n",
    "coordinates2_df.to_csv('coordinates2.csv')\n"
   ]
  },
  {
   "cell_type": "code",
   "execution_count": null,
   "id": "0f2eee0e-d31a-4c41-b0a8-0ac10ffb35d2",
   "metadata": {},
   "outputs": [],
   "source": []
  }
 ],
 "metadata": {
  "kernelspec": {
   "display_name": "Python 3 (ipykernel)",
   "language": "python",
   "name": "python3"
  },
  "language_info": {
   "codemirror_mode": {
    "name": "ipython",
    "version": 3
   },
   "file_extension": ".py",
   "mimetype": "text/x-python",
   "name": "python",
   "nbconvert_exporter": "python",
   "pygments_lexer": "ipython3",
   "version": "3.10.13"
  }
 },
 "nbformat": 4,
 "nbformat_minor": 5
}
